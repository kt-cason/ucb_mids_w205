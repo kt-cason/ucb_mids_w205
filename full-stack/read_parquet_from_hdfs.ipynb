{
 "cells": [
  {
   "cell_type": "code",
   "execution_count": 1,
   "metadata": {
    "collapsed": true
   },
   "outputs": [],
   "source": [
    "purchases = spark.read.parquet('/tmp/purchases')\n"
   ]
  },
  {
   "cell_type": "code",
   "execution_count": 2,
   "metadata": {},
   "outputs": [
    {
     "name": "stdout",
     "output_type": "stream",
     "text": [
      "+------+-----------------+---------------+--------------+--------------------+\n",
      "|Accept|             Host|     User-Agent|    event_type|           timestamp|\n",
      "+------+-----------------+---------------+--------------+--------------------+\n",
      "|   */*|user1.comcast.com|ApacheBench/2.3|purchase_sword|2020-11-19 22:24:...|\n",
      "|   */*|user1.comcast.com|ApacheBench/2.3|purchase_sword|2020-11-19 22:24:...|\n",
      "|   */*|user1.comcast.com|ApacheBench/2.3|purchase_sword|2020-11-19 22:24:...|\n",
      "|   */*|user1.comcast.com|ApacheBench/2.3|purchase_sword|2020-11-19 22:24:...|\n",
      "|   */*|user1.comcast.com|ApacheBench/2.3|purchase_sword|2020-11-19 22:24:...|\n",
      "|   */*|user1.comcast.com|ApacheBench/2.3|purchase_sword|2020-11-19 22:24:...|\n",
      "|   */*|user1.comcast.com|ApacheBench/2.3|purchase_sword|2020-11-19 22:24:...|\n",
      "|   */*|user1.comcast.com|ApacheBench/2.3|purchase_sword|2020-11-19 22:24:...|\n",
      "|   */*|user1.comcast.com|ApacheBench/2.3|purchase_sword|2020-11-19 22:24:...|\n",
      "|   */*|user1.comcast.com|ApacheBench/2.3|purchase_sword|2020-11-19 22:24:...|\n",
      "|   */*|    user2.att.com|ApacheBench/2.3|purchase_sword|2020-11-19 22:25:...|\n",
      "|   */*|    user2.att.com|ApacheBench/2.3|purchase_sword|2020-11-19 22:25:...|\n",
      "|   */*|    user2.att.com|ApacheBench/2.3|purchase_sword|2020-11-19 22:25:...|\n",
      "|   */*|    user2.att.com|ApacheBench/2.3|purchase_sword|2020-11-19 22:25:...|\n",
      "|   */*|    user2.att.com|ApacheBench/2.3|purchase_sword|2020-11-19 22:25:...|\n",
      "|   */*|    user2.att.com|ApacheBench/2.3|purchase_sword|2020-11-19 22:25:...|\n",
      "|   */*|    user2.att.com|ApacheBench/2.3|purchase_sword|2020-11-19 22:25:...|\n",
      "|   */*|    user2.att.com|ApacheBench/2.3|purchase_sword|2020-11-19 22:25:...|\n",
      "|   */*|    user2.att.com|ApacheBench/2.3|purchase_sword|2020-11-19 22:25:...|\n",
      "|   */*|    user2.att.com|ApacheBench/2.3|purchase_sword|2020-11-19 22:25:...|\n",
      "+------+-----------------+---------------+--------------+--------------------+\n",
      "\n"
     ]
    }
   ],
   "source": [
    "purchases.show()"
   ]
  },
  {
   "cell_type": "code",
   "execution_count": 3,
   "metadata": {
    "collapsed": true
   },
   "outputs": [],
   "source": [
    "#register as a table so you can run sql against it\n",
    "\n",
    "purchases.registerTempTable('purchases')\n"
   ]
  },
  {
   "cell_type": "code",
   "execution_count": 5,
   "metadata": {},
   "outputs": [
    {
     "name": "stdout",
     "output_type": "stream",
     "text": [
      "+------+-----------------+---------------+--------------+--------------------+\n",
      "|Accept|             Host|     User-Agent|    event_type|           timestamp|\n",
      "+------+-----------------+---------------+--------------+--------------------+\n",
      "|   */*|user1.comcast.com|ApacheBench/2.3|purchase_sword|2020-11-19 22:24:...|\n",
      "|   */*|user1.comcast.com|ApacheBench/2.3|purchase_sword|2020-11-19 22:24:...|\n",
      "|   */*|user1.comcast.com|ApacheBench/2.3|purchase_sword|2020-11-19 22:24:...|\n",
      "|   */*|user1.comcast.com|ApacheBench/2.3|purchase_sword|2020-11-19 22:24:...|\n",
      "|   */*|user1.comcast.com|ApacheBench/2.3|purchase_sword|2020-11-19 22:24:...|\n",
      "|   */*|user1.comcast.com|ApacheBench/2.3|purchase_sword|2020-11-19 22:24:...|\n",
      "|   */*|user1.comcast.com|ApacheBench/2.3|purchase_sword|2020-11-19 22:24:...|\n",
      "|   */*|user1.comcast.com|ApacheBench/2.3|purchase_sword|2020-11-19 22:24:...|\n",
      "|   */*|user1.comcast.com|ApacheBench/2.3|purchase_sword|2020-11-19 22:24:...|\n",
      "|   */*|user1.comcast.com|ApacheBench/2.3|purchase_sword|2020-11-19 22:24:...|\n",
      "+------+-----------------+---------------+--------------+--------------------+\n",
      "\n"
     ]
    }
   ],
   "source": [
    "purchases_by_example2 = spark.sql(\"select * from purchases where Host = 'user1.comcast.com'\")\n",
    "purchases_by_example2.show()"
   ]
  },
  {
   "cell_type": "code",
   "execution_count": 6,
   "metadata": {},
   "outputs": [
    {
     "data": {
      "text/html": [
       "<div>\n",
       "<style>\n",
       "    .dataframe thead tr:only-child th {\n",
       "        text-align: right;\n",
       "    }\n",
       "\n",
       "    .dataframe thead th {\n",
       "        text-align: left;\n",
       "    }\n",
       "\n",
       "    .dataframe tbody tr th {\n",
       "        vertical-align: top;\n",
       "    }\n",
       "</style>\n",
       "<table border=\"1\" class=\"dataframe\">\n",
       "  <thead>\n",
       "    <tr style=\"text-align: right;\">\n",
       "      <th></th>\n",
       "      <th>Accept</th>\n",
       "      <th>Host</th>\n",
       "      <th>User-Agent</th>\n",
       "      <th>event_type</th>\n",
       "      <th>timestamp</th>\n",
       "    </tr>\n",
       "  </thead>\n",
       "  <tbody>\n",
       "    <tr>\n",
       "      <th>0</th>\n",
       "      <td>*/*</td>\n",
       "      <td>user1.comcast.com</td>\n",
       "      <td>ApacheBench/2.3</td>\n",
       "      <td>purchase_sword</td>\n",
       "      <td>2020-11-19 22:24:22.284</td>\n",
       "    </tr>\n",
       "    <tr>\n",
       "      <th>1</th>\n",
       "      <td>*/*</td>\n",
       "      <td>user1.comcast.com</td>\n",
       "      <td>ApacheBench/2.3</td>\n",
       "      <td>purchase_sword</td>\n",
       "      <td>2020-11-19 22:24:22.287</td>\n",
       "    </tr>\n",
       "    <tr>\n",
       "      <th>2</th>\n",
       "      <td>*/*</td>\n",
       "      <td>user1.comcast.com</td>\n",
       "      <td>ApacheBench/2.3</td>\n",
       "      <td>purchase_sword</td>\n",
       "      <td>2020-11-19 22:24:22.291</td>\n",
       "    </tr>\n",
       "    <tr>\n",
       "      <th>3</th>\n",
       "      <td>*/*</td>\n",
       "      <td>user1.comcast.com</td>\n",
       "      <td>ApacheBench/2.3</td>\n",
       "      <td>purchase_sword</td>\n",
       "      <td>2020-11-19 22:24:22.294</td>\n",
       "    </tr>\n",
       "    <tr>\n",
       "      <th>4</th>\n",
       "      <td>*/*</td>\n",
       "      <td>user1.comcast.com</td>\n",
       "      <td>ApacheBench/2.3</td>\n",
       "      <td>purchase_sword</td>\n",
       "      <td>2020-11-19 22:24:22.298</td>\n",
       "    </tr>\n",
       "    <tr>\n",
       "      <th>5</th>\n",
       "      <td>*/*</td>\n",
       "      <td>user1.comcast.com</td>\n",
       "      <td>ApacheBench/2.3</td>\n",
       "      <td>purchase_sword</td>\n",
       "      <td>2020-11-19 22:24:22.304</td>\n",
       "    </tr>\n",
       "    <tr>\n",
       "      <th>6</th>\n",
       "      <td>*/*</td>\n",
       "      <td>user1.comcast.com</td>\n",
       "      <td>ApacheBench/2.3</td>\n",
       "      <td>purchase_sword</td>\n",
       "      <td>2020-11-19 22:24:22.307</td>\n",
       "    </tr>\n",
       "    <tr>\n",
       "      <th>7</th>\n",
       "      <td>*/*</td>\n",
       "      <td>user1.comcast.com</td>\n",
       "      <td>ApacheBench/2.3</td>\n",
       "      <td>purchase_sword</td>\n",
       "      <td>2020-11-19 22:24:22.309</td>\n",
       "    </tr>\n",
       "    <tr>\n",
       "      <th>8</th>\n",
       "      <td>*/*</td>\n",
       "      <td>user1.comcast.com</td>\n",
       "      <td>ApacheBench/2.3</td>\n",
       "      <td>purchase_sword</td>\n",
       "      <td>2020-11-19 22:24:22.312</td>\n",
       "    </tr>\n",
       "    <tr>\n",
       "      <th>9</th>\n",
       "      <td>*/*</td>\n",
       "      <td>user1.comcast.com</td>\n",
       "      <td>ApacheBench/2.3</td>\n",
       "      <td>purchase_sword</td>\n",
       "      <td>2020-11-19 22:24:22.317</td>\n",
       "    </tr>\n",
       "  </tbody>\n",
       "</table>\n",
       "</div>"
      ],
      "text/plain": [
       "  Accept               Host       User-Agent      event_type  \\\n",
       "0    */*  user1.comcast.com  ApacheBench/2.3  purchase_sword   \n",
       "1    */*  user1.comcast.com  ApacheBench/2.3  purchase_sword   \n",
       "2    */*  user1.comcast.com  ApacheBench/2.3  purchase_sword   \n",
       "3    */*  user1.comcast.com  ApacheBench/2.3  purchase_sword   \n",
       "4    */*  user1.comcast.com  ApacheBench/2.3  purchase_sword   \n",
       "5    */*  user1.comcast.com  ApacheBench/2.3  purchase_sword   \n",
       "6    */*  user1.comcast.com  ApacheBench/2.3  purchase_sword   \n",
       "7    */*  user1.comcast.com  ApacheBench/2.3  purchase_sword   \n",
       "8    */*  user1.comcast.com  ApacheBench/2.3  purchase_sword   \n",
       "9    */*  user1.comcast.com  ApacheBench/2.3  purchase_sword   \n",
       "\n",
       "                 timestamp  \n",
       "0  2020-11-19 22:24:22.284  \n",
       "1  2020-11-19 22:24:22.287  \n",
       "2  2020-11-19 22:24:22.291  \n",
       "3  2020-11-19 22:24:22.294  \n",
       "4  2020-11-19 22:24:22.298  \n",
       "5  2020-11-19 22:24:22.304  \n",
       "6  2020-11-19 22:24:22.307  \n",
       "7  2020-11-19 22:24:22.309  \n",
       "8  2020-11-19 22:24:22.312  \n",
       "9  2020-11-19 22:24:22.317  "
      ]
     },
     "execution_count": 6,
     "metadata": {},
     "output_type": "execute_result"
    }
   ],
   "source": [
    "df = purchases_by_example2.toPandas()\n",
    "df"
   ]
  },
  {
   "cell_type": "code",
   "execution_count": null,
   "metadata": {},
   "outputs": [],
   "source": []
  },
  {
   "cell_type": "code",
   "execution_count": null,
   "metadata": {
    "collapsed": true
   },
   "outputs": [],
   "source": []
  }
 ],
 "metadata": {
  "kernelspec": {
   "display_name": "Python 3",
   "language": "python",
   "name": "python3"
  },
  "language_info": {
   "codemirror_mode": {
    "name": "ipython",
    "version": 3
   },
   "file_extension": ".py",
   "mimetype": "text/x-python",
   "name": "python",
   "nbconvert_exporter": "python",
   "pygments_lexer": "ipython3",
   "version": "3.6.1"
  }
 },
 "nbformat": 4,
 "nbformat_minor": 2
}
