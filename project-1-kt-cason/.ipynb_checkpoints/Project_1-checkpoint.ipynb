{
 "cells": [
  {
   "cell_type": "code",
   "execution_count": 231,
   "metadata": {},
   "outputs": [],
   "source": [
    "import pandas as pd\n",
    "import numpy as np\n",
    "import matplotlib.pyplot as plt\n",
    "%matplotlib inline"
   ]
  },
  {
   "cell_type": "markdown",
   "metadata": {},
   "source": [
    "# Question 1: What are the 5 most popular trips that you would call \"commuter trips\"?"
   ]
  },
  {
   "cell_type": "markdown",
   "metadata": {},
   "source": [
    "LOAD DATA FRAMES:"
   ]
  },
  {
   "cell_type": "code",
   "execution_count": 51,
   "metadata": {},
   "outputs": [
    {
     "name": "stdout",
     "output_type": "stream",
     "text": [
      "Waiting on bqjob_r73c4d718cac995cd_00000174f521264c_1 ... (0s) Current status: DONE   \n"
     ]
    }
   ],
   "source": [
    "! bq query --use_legacy_sql=FALSE --format=csv --max_rows=1000000 'SELECT * FROM `new-project-288420.bike_trip_data.5_most_popular_evening_trips`' > pop_evening_trips.csv"
   ]
  },
  {
   "cell_type": "code",
   "execution_count": 52,
   "metadata": {},
   "outputs": [
    {
     "name": "stdout",
     "output_type": "stream",
     "text": [
      "Waiting on bqjob_r36130bf23855867d_00000174f5212dc4_1 ... (0s) Current status: DONE   \n"
     ]
    }
   ],
   "source": [
    "! bq query --use_legacy_sql=FALSE --format=csv --max_rows=1000000 'SELECT * FROM `new-project-288420.bike_trip_data.5_most_popular_evening_trips_subscribers`' > pop_evening_trips_subscribers.csv"
   ]
  },
  {
   "cell_type": "code",
   "execution_count": 53,
   "metadata": {},
   "outputs": [
    {
     "name": "stdout",
     "output_type": "stream",
     "text": [
      "Waiting on bqjob_r4c54c45527a06781_00000174f5213546_1 ... (0s) Current status: DONE   \n"
     ]
    }
   ],
   "source": [
    "! bq query --use_legacy_sql=FALSE --format=csv --max_rows=1000000 'SELECT * FROM `new-project-288420.bike_trip_data.5_most_popular_morning_trips`' > pop_morning_trips.csv"
   ]
  },
  {
   "cell_type": "code",
   "execution_count": 54,
   "metadata": {},
   "outputs": [
    {
     "name": "stdout",
     "output_type": "stream",
     "text": [
      "Waiting on bqjob_r6cac44c91bf74454_00000174f5213c46_1 ... (0s) Current status: DONE   \n"
     ]
    }
   ],
   "source": [
    "! bq query --use_legacy_sql=FALSE --format=csv --max_rows=1000000 'SELECT * FROM `new-project-288420.bike_trip_data.5_most_popular_morning_trips_subscribers`' > pop_morning_trips_subscribers.csv"
   ]
  },
  {
   "cell_type": "code",
   "execution_count": 55,
   "metadata": {},
   "outputs": [
    {
     "name": "stdout",
     "output_type": "stream",
     "text": [
      "Waiting on bqjob_r3a0dc691624a0742_00000174f5214383_1 ... (0s) Current status: DONE   \n"
     ]
    }
   ],
   "source": [
    "! bq query --use_legacy_sql=FALSE --format=csv --max_rows=1000000 'SELECT * FROM `new-project-288420.bike_trip_data.5_most_popular_trips`' > most_popular_trips.csv"
   ]
  },
  {
   "cell_type": "code",
   "execution_count": 56,
   "metadata": {},
   "outputs": [
    {
     "name": "stdout",
     "output_type": "stream",
     "text": [
      "Waiting on bqjob_r49ce7a954fcd9f6_00000174f5214a99_1 ... (0s) Current status: DONE   \n"
     ]
    }
   ],
   "source": [
    "! bq query --use_legacy_sql=FALSE --format=csv --max_rows=1000000 'SELECT * FROM `new-project-288420.bike_trip_data.5_most_popular_trips_subscribers`' > most_popular_trips_subscribers.csv"
   ]
  },
  {
   "cell_type": "code",
   "execution_count": 57,
   "metadata": {},
   "outputs": [
    {
     "name": "stdout",
     "output_type": "stream",
     "text": [
      "Waiting on bqjob_r774b3ac5b120a102_00000174f521530f_1 ... (0s) Current status: DONE   \n"
     ]
    }
   ],
   "source": [
    "! bq query --use_legacy_sql=FALSE --format=csv --max_rows=1000000 'SELECT * FROM `new-project-288420.bike_trip_data.num_trips_for_hour_subscriber`' > customer_v_subscriber.csv"
   ]
  },
  {
   "cell_type": "code",
   "execution_count": 58,
   "metadata": {},
   "outputs": [],
   "source": [
    "pop_evening_trips, pop_evening_trips_subscribers = pd.read_csv('pop_evening_trips.csv'), pd.read_csv('pop_evening_trips_subscribers.csv')"
   ]
  },
  {
   "cell_type": "code",
   "execution_count": 59,
   "metadata": {},
   "outputs": [],
   "source": [
    "pop_morning_trips, pop_morning_trips_subscribers = pd.read_csv('pop_morning_trips.csv'), pd.read_csv('pop_morning_trips_subscribers.csv')"
   ]
  },
  {
   "cell_type": "code",
   "execution_count": 60,
   "metadata": {},
   "outputs": [],
   "source": [
    "most_popular_trips, most_popular_trips_subscribers = pd.read_csv('most_popular_trips.csv'), pd.read_csv('most_popular_trips_subscribers.csv')"
   ]
  },
  {
   "cell_type": "code",
   "execution_count": 71,
   "metadata": {},
   "outputs": [],
   "source": [
    "customerVSsubscriber = pd.read_csv('customer_v_subscriber.csv')"
   ]
  },
  {
   "cell_type": "markdown",
   "metadata": {},
   "source": [
    "## The 5 most popular trips called commuter trips are from: \n",
    "   ### Harry Bridges Plaza to Embarcadero at Sansome\n",
    "   ### San Francisco Cal Train 2 to Townsend at 7th\n",
    "   ### 2nd at Townsend to Harry Bridges Plaza\n",
    "   ### Harry Bridges Plaza to 2nd Townsend\n",
    "   ### Embarcadero at Sansome to Steuart at Market"
   ]
  },
  {
   "cell_type": "markdown",
   "metadata": {},
   "source": [
    "Overall:"
   ]
  },
  {
   "cell_type": "code",
   "execution_count": 240,
   "metadata": {},
   "outputs": [
    {
     "data": {
      "text/html": [
       "<div>\n",
       "<style scoped>\n",
       "    .dataframe tbody tr th:only-of-type {\n",
       "        vertical-align: middle;\n",
       "    }\n",
       "\n",
       "    .dataframe tbody tr th {\n",
       "        vertical-align: top;\n",
       "    }\n",
       "\n",
       "    .dataframe thead th {\n",
       "        text-align: right;\n",
       "    }\n",
       "</style>\n",
       "<table border=\"1\" class=\"dataframe\">\n",
       "  <thead>\n",
       "    <tr style=\"text-align: right;\">\n",
       "      <th></th>\n",
       "      <th>start_station_name</th>\n",
       "      <th>end_station_name</th>\n",
       "      <th>top_5_commutes</th>\n",
       "    </tr>\n",
       "  </thead>\n",
       "  <tbody>\n",
       "    <tr>\n",
       "      <th>0</th>\n",
       "      <td>Harry Bridges Plaza (Ferry Building)</td>\n",
       "      <td>Embarcadero at Sansome</td>\n",
       "      <td>9150</td>\n",
       "    </tr>\n",
       "    <tr>\n",
       "      <th>1</th>\n",
       "      <td>San Francisco Caltrain 2 (330 Townsend)</td>\n",
       "      <td>Townsend at 7th</td>\n",
       "      <td>8508</td>\n",
       "    </tr>\n",
       "    <tr>\n",
       "      <th>2</th>\n",
       "      <td>2nd at Townsend</td>\n",
       "      <td>Harry Bridges Plaza (Ferry Building)</td>\n",
       "      <td>7620</td>\n",
       "    </tr>\n",
       "    <tr>\n",
       "      <th>3</th>\n",
       "      <td>Harry Bridges Plaza (Ferry Building)</td>\n",
       "      <td>2nd at Townsend</td>\n",
       "      <td>6888</td>\n",
       "    </tr>\n",
       "    <tr>\n",
       "      <th>4</th>\n",
       "      <td>Embarcadero at Sansome</td>\n",
       "      <td>Steuart at Market</td>\n",
       "      <td>6874</td>\n",
       "    </tr>\n",
       "  </tbody>\n",
       "</table>\n",
       "</div>"
      ],
      "text/plain": [
       "                        start_station_name  \\\n",
       "0     Harry Bridges Plaza (Ferry Building)   \n",
       "1  San Francisco Caltrain 2 (330 Townsend)   \n",
       "2                          2nd at Townsend   \n",
       "3     Harry Bridges Plaza (Ferry Building)   \n",
       "4                   Embarcadero at Sansome   \n",
       "\n",
       "                       end_station_name  top_5_commutes  \n",
       "0                Embarcadero at Sansome            9150  \n",
       "1                       Townsend at 7th            8508  \n",
       "2  Harry Bridges Plaza (Ferry Building)            7620  \n",
       "3                       2nd at Townsend            6888  \n",
       "4                     Steuart at Market            6874  "
      ]
     },
     "execution_count": 240,
     "metadata": {},
     "output_type": "execute_result"
    }
   ],
   "source": [
    "most_popular_trips"
   ]
  },
  {
   "cell_type": "markdown",
   "metadata": {},
   "source": [
    "In the evening:"
   ]
  },
  {
   "cell_type": "code",
   "execution_count": 63,
   "metadata": {},
   "outputs": [
    {
     "data": {
      "text/html": [
       "<div>\n",
       "<style scoped>\n",
       "    .dataframe tbody tr th:only-of-type {\n",
       "        vertical-align: middle;\n",
       "    }\n",
       "\n",
       "    .dataframe tbody tr th {\n",
       "        vertical-align: top;\n",
       "    }\n",
       "\n",
       "    .dataframe thead th {\n",
       "        text-align: right;\n",
       "    }\n",
       "</style>\n",
       "<table border=\"1\" class=\"dataframe\">\n",
       "  <thead>\n",
       "    <tr style=\"text-align: right;\">\n",
       "      <th></th>\n",
       "      <th>start_station_name</th>\n",
       "      <th>end_station_name</th>\n",
       "      <th>number_evening_commutes</th>\n",
       "    </tr>\n",
       "  </thead>\n",
       "  <tbody>\n",
       "    <tr>\n",
       "      <th>0</th>\n",
       "      <td>2nd at Townsend</td>\n",
       "      <td>Harry Bridges Plaza (Ferry Building)</td>\n",
       "      <td>4456</td>\n",
       "    </tr>\n",
       "    <tr>\n",
       "      <th>1</th>\n",
       "      <td>Embarcadero at Sansome</td>\n",
       "      <td>Steuart at Market</td>\n",
       "      <td>4282</td>\n",
       "    </tr>\n",
       "    <tr>\n",
       "      <th>2</th>\n",
       "      <td>Embarcadero at Folsom</td>\n",
       "      <td>San Francisco Caltrain (Townsend at 4th)</td>\n",
       "      <td>4180</td>\n",
       "    </tr>\n",
       "    <tr>\n",
       "      <th>3</th>\n",
       "      <td>2nd at South Park</td>\n",
       "      <td>Market at Sansome</td>\n",
       "      <td>3573</td>\n",
       "    </tr>\n",
       "    <tr>\n",
       "      <th>4</th>\n",
       "      <td>Steuart at Market</td>\n",
       "      <td>San Francisco Caltrain (Townsend at 4th)</td>\n",
       "      <td>3567</td>\n",
       "    </tr>\n",
       "  </tbody>\n",
       "</table>\n",
       "</div>"
      ],
      "text/plain": [
       "       start_station_name                          end_station_name  \\\n",
       "0         2nd at Townsend      Harry Bridges Plaza (Ferry Building)   \n",
       "1  Embarcadero at Sansome                         Steuart at Market   \n",
       "2   Embarcadero at Folsom  San Francisco Caltrain (Townsend at 4th)   \n",
       "3       2nd at South Park                         Market at Sansome   \n",
       "4       Steuart at Market  San Francisco Caltrain (Townsend at 4th)   \n",
       "\n",
       "   number_evening_commutes  \n",
       "0                     4456  \n",
       "1                     4282  \n",
       "2                     4180  \n",
       "3                     3573  \n",
       "4                     3567  "
      ]
     },
     "execution_count": 63,
     "metadata": {},
     "output_type": "execute_result"
    }
   ],
   "source": [
    "pop_evening_trips"
   ]
  },
  {
   "cell_type": "markdown",
   "metadata": {},
   "source": [
    "And in the morning:"
   ]
  },
  {
   "cell_type": "code",
   "execution_count": 64,
   "metadata": {},
   "outputs": [
    {
     "data": {
      "text/html": [
       "<div>\n",
       "<style scoped>\n",
       "    .dataframe tbody tr th:only-of-type {\n",
       "        vertical-align: middle;\n",
       "    }\n",
       "\n",
       "    .dataframe tbody tr th {\n",
       "        vertical-align: top;\n",
       "    }\n",
       "\n",
       "    .dataframe thead th {\n",
       "        text-align: right;\n",
       "    }\n",
       "</style>\n",
       "<table border=\"1\" class=\"dataframe\">\n",
       "  <thead>\n",
       "    <tr style=\"text-align: right;\">\n",
       "      <th></th>\n",
       "      <th>start_station_name</th>\n",
       "      <th>end_station_name</th>\n",
       "      <th>number_morning_commutes</th>\n",
       "    </tr>\n",
       "  </thead>\n",
       "  <tbody>\n",
       "    <tr>\n",
       "      <th>0</th>\n",
       "      <td>Harry Bridges Plaza (Ferry Building)</td>\n",
       "      <td>2nd at Townsend</td>\n",
       "      <td>4842</td>\n",
       "    </tr>\n",
       "    <tr>\n",
       "      <th>1</th>\n",
       "      <td>Steuart at Market</td>\n",
       "      <td>2nd at Townsend</td>\n",
       "      <td>3837</td>\n",
       "    </tr>\n",
       "    <tr>\n",
       "      <th>2</th>\n",
       "      <td>San Francisco Caltrain (Townsend at 4th)</td>\n",
       "      <td>Temporary Transbay Terminal (Howard at Beale)</td>\n",
       "      <td>3817</td>\n",
       "    </tr>\n",
       "    <tr>\n",
       "      <th>3</th>\n",
       "      <td>San Francisco Caltrain (Townsend at 4th)</td>\n",
       "      <td>Embarcadero at Folsom</td>\n",
       "      <td>3622</td>\n",
       "    </tr>\n",
       "    <tr>\n",
       "      <th>4</th>\n",
       "      <td>San Francisco Caltrain 2 (330 Townsend)</td>\n",
       "      <td>Townsend at 7th</td>\n",
       "      <td>3620</td>\n",
       "    </tr>\n",
       "  </tbody>\n",
       "</table>\n",
       "</div>"
      ],
      "text/plain": [
       "                         start_station_name  \\\n",
       "0      Harry Bridges Plaza (Ferry Building)   \n",
       "1                         Steuart at Market   \n",
       "2  San Francisco Caltrain (Townsend at 4th)   \n",
       "3  San Francisco Caltrain (Townsend at 4th)   \n",
       "4   San Francisco Caltrain 2 (330 Townsend)   \n",
       "\n",
       "                                end_station_name  number_morning_commutes  \n",
       "0                                2nd at Townsend                     4842  \n",
       "1                                2nd at Townsend                     3837  \n",
       "2  Temporary Transbay Terminal (Howard at Beale)                     3817  \n",
       "3                          Embarcadero at Folsom                     3622  \n",
       "4                                Townsend at 7th                     3620  "
      ]
     },
     "execution_count": 64,
     "metadata": {},
     "output_type": "execute_result"
    }
   ],
   "source": [
    "pop_morning_trips"
   ]
  },
  {
   "cell_type": "markdown",
   "metadata": {},
   "source": [
    "### Most commuters are likely to be subscribers because they rely on the bikeshare system to commute daily, so it is cheaper for them to subscribe then pay as a regular customer everyday. These are the 5 most popular trips for subscribers:"
   ]
  },
  {
   "cell_type": "markdown",
   "metadata": {},
   "source": [
    "#### Here is a bar graph to visualize the number of trips taken by customers vs. subscribers throughout the day. Subscribers makeup the most trips throughout the day, especially during commuter hours- around 8 AM and 5 PM. The tables following this graph illustrate this idea."
   ]
  },
  {
   "cell_type": "code",
   "execution_count": 291,
   "metadata": {},
   "outputs": [],
   "source": [
    "customerVSsubscriber_for_plot = customerVSsubscriber.pivot(index= 'hour_of_day', columns = 'subscriber_type', values = 'count_trips_taken')"
   ]
  },
  {
   "cell_type": "code",
   "execution_count": 292,
   "metadata": {},
   "outputs": [
    {
     "data": {
      "text/plain": [
       "<AxesSubplot:xlabel='hour_of_day'>"
      ]
     },
     "execution_count": 292,
     "metadata": {},
     "output_type": "execute_result"
    },
    {
     "data": {
      "image/png": "[encoded data removed]",
      "text/plain": [
       "<Figure size 432x288 with 1 Axes>"
      ]
     },
     "metadata": {
      "needs_background": "light"
     },
     "output_type": "display_data"
    }
   ],
   "source": [
    "customerVSsubscriber_for_plot.plot.bar(stacked = True, color = {'Customer': 'pink', 'Subscriber': 'black'})"
   ]
  },
  {
   "cell_type": "markdown",
   "metadata": {},
   "source": [
    "Overall:"
   ]
  },
  {
   "cell_type": "code",
   "execution_count": 296,
   "metadata": {},
   "outputs": [
    {
     "data": {
      "text/html": [
       "<div>\n",
       "<style scoped>\n",
       "    .dataframe tbody tr th:only-of-type {\n",
       "        vertical-align: middle;\n",
       "    }\n",
       "\n",
       "    .dataframe tbody tr th {\n",
       "        vertical-align: top;\n",
       "    }\n",
       "\n",
       "    .dataframe thead th {\n",
       "        text-align: right;\n",
       "    }\n",
       "</style>\n",
       "<table border=\"1\" class=\"dataframe\">\n",
       "  <thead>\n",
       "    <tr style=\"text-align: right;\">\n",
       "      <th></th>\n",
       "      <th>start_station_name</th>\n",
       "      <th>end_station_name</th>\n",
       "      <th>top_5_commutes</th>\n",
       "    </tr>\n",
       "  </thead>\n",
       "  <tbody>\n",
       "    <tr>\n",
       "      <th>0</th>\n",
       "      <td>San Francisco Caltrain 2 (330 Townsend)</td>\n",
       "      <td>Townsend at 7th</td>\n",
       "      <td>8305</td>\n",
       "    </tr>\n",
       "    <tr>\n",
       "      <th>1</th>\n",
       "      <td>2nd at Townsend</td>\n",
       "      <td>Harry Bridges Plaza (Ferry Building)</td>\n",
       "      <td>6931</td>\n",
       "    </tr>\n",
       "    <tr>\n",
       "      <th>2</th>\n",
       "      <td>Townsend at 7th</td>\n",
       "      <td>San Francisco Caltrain 2 (330 Townsend)</td>\n",
       "      <td>6641</td>\n",
       "    </tr>\n",
       "    <tr>\n",
       "      <th>3</th>\n",
       "      <td>Harry Bridges Plaza (Ferry Building)</td>\n",
       "      <td>2nd at Townsend</td>\n",
       "      <td>6332</td>\n",
       "    </tr>\n",
       "    <tr>\n",
       "      <th>4</th>\n",
       "      <td>Embarcadero at Sansome</td>\n",
       "      <td>Steuart at Market</td>\n",
       "      <td>6200</td>\n",
       "    </tr>\n",
       "  </tbody>\n",
       "</table>\n",
       "</div>"
      ],
      "text/plain": [
       "                        start_station_name  \\\n",
       "0  San Francisco Caltrain 2 (330 Townsend)   \n",
       "1                          2nd at Townsend   \n",
       "2                          Townsend at 7th   \n",
       "3     Harry Bridges Plaza (Ferry Building)   \n",
       "4                   Embarcadero at Sansome   \n",
       "\n",
       "                          end_station_name  top_5_commutes  \n",
       "0                          Townsend at 7th            8305  \n",
       "1     Harry Bridges Plaza (Ferry Building)            6931  \n",
       "2  San Francisco Caltrain 2 (330 Townsend)            6641  \n",
       "3                          2nd at Townsend            6332  \n",
       "4                        Steuart at Market            6200  "
      ]
     },
     "execution_count": 296,
     "metadata": {},
     "output_type": "execute_result"
    }
   ],
   "source": [
    "most_popular_trips_subscribers"
   ]
  },
  {
   "cell_type": "markdown",
   "metadata": {},
   "source": [
    "In the evening:"
   ]
  },
  {
   "cell_type": "code",
   "execution_count": 294,
   "metadata": {},
   "outputs": [
    {
     "data": {
      "text/html": [
       "<div>\n",
       "<style scoped>\n",
       "    .dataframe tbody tr th:only-of-type {\n",
       "        vertical-align: middle;\n",
       "    }\n",
       "\n",
       "    .dataframe tbody tr th {\n",
       "        vertical-align: top;\n",
       "    }\n",
       "\n",
       "    .dataframe thead th {\n",
       "        text-align: right;\n",
       "    }\n",
       "</style>\n",
       "<table border=\"1\" class=\"dataframe\">\n",
       "  <thead>\n",
       "    <tr style=\"text-align: right;\">\n",
       "      <th></th>\n",
       "      <th>start_station_name</th>\n",
       "      <th>end_station_name</th>\n",
       "      <th>number_evening_commutes</th>\n",
       "    </tr>\n",
       "  </thead>\n",
       "  <tbody>\n",
       "    <tr>\n",
       "      <th>0</th>\n",
       "      <td>2nd at Townsend</td>\n",
       "      <td>Harry Bridges Plaza (Ferry Building)</td>\n",
       "      <td>4268</td>\n",
       "    </tr>\n",
       "    <tr>\n",
       "      <th>1</th>\n",
       "      <td>Embarcadero at Folsom</td>\n",
       "      <td>San Francisco Caltrain (Townsend at 4th)</td>\n",
       "      <td>4088</td>\n",
       "    </tr>\n",
       "    <tr>\n",
       "      <th>2</th>\n",
       "      <td>Embarcadero at Sansome</td>\n",
       "      <td>Steuart at Market</td>\n",
       "      <td>4009</td>\n",
       "    </tr>\n",
       "    <tr>\n",
       "      <th>3</th>\n",
       "      <td>2nd at South Park</td>\n",
       "      <td>Market at Sansome</td>\n",
       "      <td>3510</td>\n",
       "    </tr>\n",
       "    <tr>\n",
       "      <th>4</th>\n",
       "      <td>Steuart at Market</td>\n",
       "      <td>San Francisco Caltrain (Townsend at 4th)</td>\n",
       "      <td>3469</td>\n",
       "    </tr>\n",
       "  </tbody>\n",
       "</table>\n",
       "</div>"
      ],
      "text/plain": [
       "       start_station_name                          end_station_name  \\\n",
       "0         2nd at Townsend      Harry Bridges Plaza (Ferry Building)   \n",
       "1   Embarcadero at Folsom  San Francisco Caltrain (Townsend at 4th)   \n",
       "2  Embarcadero at Sansome                         Steuart at Market   \n",
       "3       2nd at South Park                         Market at Sansome   \n",
       "4       Steuart at Market  San Francisco Caltrain (Townsend at 4th)   \n",
       "\n",
       "   number_evening_commutes  \n",
       "0                     4268  \n",
       "1                     4088  \n",
       "2                     4009  \n",
       "3                     3510  \n",
       "4                     3469  "
      ]
     },
     "execution_count": 294,
     "metadata": {},
     "output_type": "execute_result"
    }
   ],
   "source": [
    "pop_evening_trips_subscribers"
   ]
  },
  {
   "cell_type": "markdown",
   "metadata": {},
   "source": [
    "And in the morning:"
   ]
  },
  {
   "cell_type": "code",
   "execution_count": 297,
   "metadata": {},
   "outputs": [
    {
     "data": {
      "text/html": [
       "<div>\n",
       "<style scoped>\n",
       "    .dataframe tbody tr th:only-of-type {\n",
       "        vertical-align: middle;\n",
       "    }\n",
       "\n",
       "    .dataframe tbody tr th {\n",
       "        vertical-align: top;\n",
       "    }\n",
       "\n",
       "    .dataframe thead th {\n",
       "        text-align: right;\n",
       "    }\n",
       "</style>\n",
       "<table border=\"1\" class=\"dataframe\">\n",
       "  <thead>\n",
       "    <tr style=\"text-align: right;\">\n",
       "      <th></th>\n",
       "      <th>start_station_name</th>\n",
       "      <th>end_station_name</th>\n",
       "      <th>number_morning_commutes</th>\n",
       "    </tr>\n",
       "  </thead>\n",
       "  <tbody>\n",
       "    <tr>\n",
       "      <th>0</th>\n",
       "      <td>Harry Bridges Plaza (Ferry Building)</td>\n",
       "      <td>2nd at Townsend</td>\n",
       "      <td>4774</td>\n",
       "    </tr>\n",
       "    <tr>\n",
       "      <th>1</th>\n",
       "      <td>Steuart at Market</td>\n",
       "      <td>2nd at Townsend</td>\n",
       "      <td>3786</td>\n",
       "    </tr>\n",
       "    <tr>\n",
       "      <th>2</th>\n",
       "      <td>San Francisco Caltrain (Townsend at 4th)</td>\n",
       "      <td>Temporary Transbay Terminal (Howard at Beale)</td>\n",
       "      <td>3779</td>\n",
       "    </tr>\n",
       "    <tr>\n",
       "      <th>3</th>\n",
       "      <td>San Francisco Caltrain (Townsend at 4th)</td>\n",
       "      <td>Embarcadero at Folsom</td>\n",
       "      <td>3599</td>\n",
       "    </tr>\n",
       "    <tr>\n",
       "      <th>4</th>\n",
       "      <td>San Francisco Caltrain 2 (330 Townsend)</td>\n",
       "      <td>Townsend at 7th</td>\n",
       "      <td>3567</td>\n",
       "    </tr>\n",
       "  </tbody>\n",
       "</table>\n",
       "</div>"
      ],
      "text/plain": [
       "                         start_station_name  \\\n",
       "0      Harry Bridges Plaza (Ferry Building)   \n",
       "1                         Steuart at Market   \n",
       "2  San Francisco Caltrain (Townsend at 4th)   \n",
       "3  San Francisco Caltrain (Townsend at 4th)   \n",
       "4   San Francisco Caltrain 2 (330 Townsend)   \n",
       "\n",
       "                                end_station_name  number_morning_commutes  \n",
       "0                                2nd at Townsend                     4774  \n",
       "1                                2nd at Townsend                     3786  \n",
       "2  Temporary Transbay Terminal (Howard at Beale)                     3779  \n",
       "3                          Embarcadero at Folsom                     3599  \n",
       "4                                Townsend at 7th                     3567  "
      ]
     },
     "execution_count": 297,
     "metadata": {},
     "output_type": "execute_result"
    }
   ],
   "source": [
    "pop_morning_trips_subscribers"
   ]
  },
  {
   "cell_type": "markdown",
   "metadata": {},
   "source": [
    "# Question 2: What are your recommendations for offers (justify based on your findings)?"
   ]
  },
  {
   "cell_type": "markdown",
   "metadata": {},
   "source": [
    "## QUESTION 2 PART A: Bike Trips on the 6 Most Popular Holidays"
   ]
  },
  {
   "cell_type": "markdown",
   "metadata": {},
   "source": [
    "LOAD DATA FRAMES"
   ]
  },
  {
   "cell_type": "code",
   "execution_count": 298,
   "metadata": {},
   "outputs": [
    {
     "name": "stdout",
     "output_type": "stream",
     "text": [
      "Waiting on bqjob_r4d994677a76a6ece_00000174f5d27461_1 ... (0s) Current status: DONE   \n",
      "Waiting on bqjob_r975a28428392d91_00000174f5d27bd9_1 ... (0s) Current status: DONE   \n",
      "Waiting on bqjob_r5a2828a35a0214a3_00000174f5d282fd_1 ... (0s) Current status: DONE   \n",
      "Waiting on bqjob_r6b197aa948a3d211_00000174f5d28a54_1 ... (0s) Current status: DONE   \n",
      "Waiting on bqjob_r4fe570fdc7a5d770_00000174f5d29168_1 ... (0s) Current status: DONE   \n",
      "Waiting on bqjob_r7eade6ffa8396063_00000174f5d29863_1 ... (0s) Current status: DONE   \n"
     ]
    }
   ],
   "source": [
    "! bq query --use_legacy_sql=FALSE --format=csv --max_rows=1000000 'SELECT * FROM `new-project-288420.bike_trip_data.christmas_bikes`' > christmas.csv\n",
    "! bq query --use_legacy_sql=FALSE --format=csv --max_rows=1000000 'SELECT * FROM `new-project-288420.bike_trip_data.thanksgiving`' > thanksgiving.csv\n",
    "! bq query --use_legacy_sql=FALSE --format=csv --max_rows=1000000 'SELECT * FROM `new-project-288420.bike_trip_data.halloween_bikes`' > halloween.csv\n",
    "! bq query --use_legacy_sql=FALSE --format=csv --max_rows=1000000 'SELECT * FROM `new-project-288420.bike_trip_data.valentinesday_bikes`' > valentinesday.csv\n",
    "! bq query --use_legacy_sql=FALSE --format=csv --max_rows=1000000 'SELECT * FROM `new-project-288420.bike_trip_data.easter`' > easter.csv\n",
    "! bq query --use_legacy_sql=FALSE --format=csv --max_rows=1000000 'SELECT * FROM `new-project-288420.bike_trip_data.st_pattys`' > stpattys.csv"
   ]
  },
  {
   "cell_type": "code",
   "execution_count": 299,
   "metadata": {},
   "outputs": [],
   "source": [
    "christmas, thanksgiving, halloween, valentines, easter, stpattys = pd.read_csv('christmas.csv'), pd.read_csv('thanksgiving.csv'), pd.read_csv('halloween.csv'), pd.read_csv('valentinesday.csv'), pd.read_csv('easter.csv'), pd.read_csv('stpattys.csv')"
   ]
  },
  {
   "cell_type": "code",
   "execution_count": 300,
   "metadata": {},
   "outputs": [],
   "source": [
    "holidays = [christmas, thanksgiving, halloween, valentines, easter, stpattys]\n",
    "bars = ('Christmas', 'Thanksgiving', 'Halloween', 'Valentines Day', 'Easter', 'St. Pattys day')\n",
    "heights = [x.loc[0]['f0_'] for x in holidays]"
   ]
  },
  {
   "cell_type": "code",
   "execution_count": 301,
   "metadata": {},
   "outputs": [
    {
     "data": {
      "text/plain": [
       "Text(0.5, 1.0, 'Number of Bikeshare Trips from 2014 to 2015 in the Bay Area on the Most Popular Holidays')"
      ]
     },
     "execution_count": 301,
     "metadata": {},
     "output_type": "execute_result"
    },
    {
     "data": {
      "image/png": "[encoded data removed]",
      "text/plain": [
       "<Figure size 720x720 with 1 Axes>"
      ]
     },
     "metadata": {
      "needs_background": "light"
     },
     "output_type": "display_data"
    }
   ],
   "source": [
    "plt.figure(figsize= (10,10))\n",
    "plt.bar(bars, heights, color = 'pink')\n",
    "plt.title('Number of Bikeshare Trips from 2014 to 2015 in the Bay Area on the Most Popular Holidays')"
   ]
  },
  {
   "cell_type": "markdown",
   "metadata": {},
   "source": [
    "#### Based on this bargraph, it is clear that bikesharing is far more popular on some holidays and less popular on others. From this analysis I recommend that we offer deals on holidays in which our platform is not as popular- namely Christmas, Thanksgiving, and Easter."
   ]
  },
  {
   "cell_type": "markdown",
   "metadata": {},
   "source": [
    "##### While we are undoubtably leaving money on the table on these 3 outlying holidays, it is important to note that Christmas, Thanksgiving, and Easter are all days that most workers have off. Therefore, there are far less people commuting to work on our bikes. Our customers on these days will likely not be subscribers but regular customers because subscribers use bikeshare mostly for commuting. The deals we offer must be targeted at non-subscribing customers who will be using bikeshare for leisure on these days."
   ]
  },
  {
   "cell_type": "markdown",
   "metadata": {},
   "source": [
    "## QUESTION 2 PART B: Least Popular Zipcodes"
   ]
  },
  {
   "cell_type": "code",
   "execution_count": 156,
   "metadata": {},
   "outputs": [
    {
     "name": "stdout",
     "output_type": "stream",
     "text": [
      "Waiting on bqjob_r26ec11b3feb50d6d_00000174f575a8c3_1 ... (0s) Current status: DONE   \n"
     ]
    }
   ],
   "source": [
    "! bq query --use_legacy_sql=FALSE --format=csv --max_rows=1000000 'SELECT * FROM `new-project-288420.bike_trip_data.least_subscriber_zipcode`' > least_subscriber_zipcode.csv"
   ]
  },
  {
   "cell_type": "code",
   "execution_count": 157,
   "metadata": {},
   "outputs": [
    {
     "name": "stdout",
     "output_type": "stream",
     "text": [
      "Waiting on bqjob_r42bfd2b9f7e9812b_00000174f5760b17_1 ... (0s) Current status: DONE   \n"
     ]
    }
   ],
   "source": [
    "! bq query --use_legacy_sql=FALSE --format=csv --max_rows=1000000 'SELECT * FROM `new-project-288420.bike_trip_data.least_customers_zipcode`' > least_customer_zipcode.csv"
   ]
  },
  {
   "cell_type": "code",
   "execution_count": 167,
   "metadata": {},
   "outputs": [],
   "source": [
    "least_subscriber_zipcode, least_customer_zipcode = pd.read_csv('least_subscriber_zipcode.csv'), pd.read_csv('least_customer_zipcode.csv')"
   ]
  },
  {
   "cell_type": "code",
   "execution_count": 305,
   "metadata": {},
   "outputs": [
    {
     "data": {
      "text/plain": [
       "<matplotlib.legend.Legend at 0x7ff110a78550>"
      ]
     },
     "execution_count": 305,
     "metadata": {},
     "output_type": "execute_result"
    },
    {
     "data": {
      "image/png": "[encoded data removed]",
      "text/plain": [
       "<Figure size 720x360 with 1 Axes>"
      ]
     },
     "metadata": {
      "needs_background": "light"
     },
     "output_type": "display_data"
    }
   ],
   "source": [
    "plt.figure(figsize = (10,5))\n",
    "plt.hist(least_customer_zipcode['trips'], bins = 50, range = (0, 50) ,alpha = 0.5, color = 'pink', label = 'Customer Trips')\n",
    "plt.hist(least_subscriber_zipcode['trips'], bins = 50, range = (0,50), alpha = 0.5, color = 'black', label = 'Subscriber Trips')\n",
    "plt.title('The Distribution of Trips Taken by Normal Customers and Subscribers in the Worst Performing Zipcodes')\n",
    "plt.legend(loc='upper right')"
   ]
  },
  {
   "cell_type": "markdown",
   "metadata": {},
   "source": [
    "#### This histogram illustrates that in the worst performing zipcodes for regular customers, essentially all of these zipcodes have had only 1 trip. In contrast, the worst, zipcodes for subscribers have had up to 50 trips."
   ]
  },
  {
   "cell_type": "markdown",
   "metadata": {},
   "source": [
    "#### I recommend that in these poorly performing zipcodes, we increase advertisement or build new docking stations to maximize profits. The following tables illustrate that: there are over 400 zipcodes with just 1 'customer' taken trip & there are 70 zipcodes with less than 10 'subscriber' taken trip. These failing zipcodes should be targeted with ad campaigns and new deals."
   ]
  },
  {
   "cell_type": "code",
   "execution_count": 194,
   "metadata": {},
   "outputs": [
    {
     "data": {
      "text/html": [
       "<div>\n",
       "<style scoped>\n",
       "    .dataframe tbody tr th:only-of-type {\n",
       "        vertical-align: middle;\n",
       "    }\n",
       "\n",
       "    .dataframe tbody tr th {\n",
       "        vertical-align: top;\n",
       "    }\n",
       "\n",
       "    .dataframe thead th {\n",
       "        text-align: right;\n",
       "    }\n",
       "</style>\n",
       "<table border=\"1\" class=\"dataframe\">\n",
       "  <thead>\n",
       "    <tr style=\"text-align: right;\">\n",
       "      <th></th>\n",
       "      <th>zip_code</th>\n",
       "      <th>trips</th>\n",
       "    </tr>\n",
       "  </thead>\n",
       "  <tbody>\n",
       "    <tr>\n",
       "      <th>0</th>\n",
       "      <td>28043</td>\n",
       "      <td>1</td>\n",
       "    </tr>\n",
       "    <tr>\n",
       "      <th>1</th>\n",
       "      <td>37917</td>\n",
       "      <td>1</td>\n",
       "    </tr>\n",
       "    <tr>\n",
       "      <th>2</th>\n",
       "      <td>90059</td>\n",
       "      <td>1</td>\n",
       "    </tr>\n",
       "    <tr>\n",
       "      <th>3</th>\n",
       "      <td>77501</td>\n",
       "      <td>1</td>\n",
       "    </tr>\n",
       "    <tr>\n",
       "      <th>4</th>\n",
       "      <td>46703</td>\n",
       "      <td>1</td>\n",
       "    </tr>\n",
       "    <tr>\n",
       "      <th>...</th>\n",
       "      <td>...</td>\n",
       "      <td>...</td>\n",
       "    </tr>\n",
       "    <tr>\n",
       "      <th>395</th>\n",
       "      <td>941108</td>\n",
       "      <td>1</td>\n",
       "    </tr>\n",
       "    <tr>\n",
       "      <th>396</th>\n",
       "      <td>10588</td>\n",
       "      <td>1</td>\n",
       "    </tr>\n",
       "    <tr>\n",
       "      <th>397</th>\n",
       "      <td>7928</td>\n",
       "      <td>1</td>\n",
       "    </tr>\n",
       "    <tr>\n",
       "      <th>398</th>\n",
       "      <td>64083</td>\n",
       "      <td>1</td>\n",
       "    </tr>\n",
       "    <tr>\n",
       "      <th>399</th>\n",
       "      <td>43139</td>\n",
       "      <td>1</td>\n",
       "    </tr>\n",
       "  </tbody>\n",
       "</table>\n",
       "<p>400 rows × 2 columns</p>\n",
       "</div>"
      ],
      "text/plain": [
       "     zip_code  trips\n",
       "0       28043      1\n",
       "1       37917      1\n",
       "2       90059      1\n",
       "3       77501      1\n",
       "4       46703      1\n",
       "..        ...    ...\n",
       "395    941108      1\n",
       "396     10588      1\n",
       "397      7928      1\n",
       "398     64083      1\n",
       "399     43139      1\n",
       "\n",
       "[400 rows x 2 columns]"
      ]
     },
     "execution_count": 194,
     "metadata": {},
     "output_type": "execute_result"
    }
   ],
   "source": [
    "least_customer_zipcode"
   ]
  },
  {
   "cell_type": "code",
   "execution_count": 195,
   "metadata": {},
   "outputs": [
    {
     "data": {
      "text/html": [
       "<div>\n",
       "<style scoped>\n",
       "    .dataframe tbody tr th:only-of-type {\n",
       "        vertical-align: middle;\n",
       "    }\n",
       "\n",
       "    .dataframe tbody tr th {\n",
       "        vertical-align: top;\n",
       "    }\n",
       "\n",
       "    .dataframe thead th {\n",
       "        text-align: right;\n",
       "    }\n",
       "</style>\n",
       "<table border=\"1\" class=\"dataframe\">\n",
       "  <thead>\n",
       "    <tr style=\"text-align: right;\">\n",
       "      <th></th>\n",
       "      <th>zip_code</th>\n",
       "      <th>trips</th>\n",
       "    </tr>\n",
       "  </thead>\n",
       "  <tbody>\n",
       "    <tr>\n",
       "      <th>0</th>\n",
       "      <td>20005</td>\n",
       "      <td>1</td>\n",
       "    </tr>\n",
       "    <tr>\n",
       "      <th>1</th>\n",
       "      <td>89138</td>\n",
       "      <td>1</td>\n",
       "    </tr>\n",
       "    <tr>\n",
       "      <th>2</th>\n",
       "      <td>37405</td>\n",
       "      <td>1</td>\n",
       "    </tr>\n",
       "    <tr>\n",
       "      <th>3</th>\n",
       "      <td>90404</td>\n",
       "      <td>1</td>\n",
       "    </tr>\n",
       "    <tr>\n",
       "      <th>4</th>\n",
       "      <td>2138</td>\n",
       "      <td>1</td>\n",
       "    </tr>\n",
       "    <tr>\n",
       "      <th>...</th>\n",
       "      <td>...</td>\n",
       "      <td>...</td>\n",
       "    </tr>\n",
       "    <tr>\n",
       "      <th>66</th>\n",
       "      <td>0</td>\n",
       "      <td>8</td>\n",
       "    </tr>\n",
       "    <tr>\n",
       "      <th>67</th>\n",
       "      <td>94142</td>\n",
       "      <td>9</td>\n",
       "    </tr>\n",
       "    <tr>\n",
       "      <th>68</th>\n",
       "      <td>95462</td>\n",
       "      <td>9</td>\n",
       "    </tr>\n",
       "    <tr>\n",
       "      <th>69</th>\n",
       "      <td>12533</td>\n",
       "      <td>9</td>\n",
       "    </tr>\n",
       "    <tr>\n",
       "      <th>70</th>\n",
       "      <td>92129</td>\n",
       "      <td>9</td>\n",
       "    </tr>\n",
       "  </tbody>\n",
       "</table>\n",
       "<p>71 rows × 2 columns</p>\n",
       "</div>"
      ],
      "text/plain": [
       "   zip_code  trips\n",
       "0     20005      1\n",
       "1     89138      1\n",
       "2     37405      1\n",
       "3     90404      1\n",
       "4      2138      1\n",
       "..      ...    ...\n",
       "66        0      8\n",
       "67    94142      9\n",
       "68    95462      9\n",
       "69    12533      9\n",
       "70    92129      9\n",
       "\n",
       "[71 rows x 2 columns]"
      ]
     },
     "execution_count": 195,
     "metadata": {},
     "output_type": "execute_result"
    }
   ],
   "source": [
    "least_subscriber_zipcode[least_subscriber_zipcode['trips'] < 10]"
   ]
  },
  {
   "cell_type": "markdown",
   "metadata": {},
   "source": [
    "## QUESTION 2 PART C:Bikes Available on the Weekend"
   ]
  },
  {
   "cell_type": "code",
   "execution_count": 196,
   "metadata": {},
   "outputs": [
    {
     "name": "stdout",
     "output_type": "stream",
     "text": [
      "Waiting on bqjob_r65d931fc1bc88430_00000174f5888567_1 ... (15s) Current status: DONE   \n"
     ]
    }
   ],
   "source": [
    "! bq query --use_legacy_sql=FALSE --format=csv --max_rows=1000000 'SELECT * FROM `new-project-288420.bike_trip_data.available_bikes_on_weekend`' > available_weekend_bikes.csv"
   ]
  },
  {
   "cell_type": "code",
   "execution_count": 197,
   "metadata": {},
   "outputs": [],
   "source": [
    "available_weekend_bikes = pd.read_csv('available_weekend_bikes.csv')"
   ]
  },
  {
   "cell_type": "code",
   "execution_count": 199,
   "metadata": {},
   "outputs": [
    {
     "name": "stdout",
     "output_type": "stream",
     "text": [
      "Waiting on bqjob_r21b069b655794464_00000174f58ad539_1 ... (0s) Current status: DONE   \n"
     ]
    }
   ],
   "source": [
    "! bq query --use_legacy_sql=FALSE --format=csv --max_rows=1000000 'SELECT * FROM `new-project-288420.bike_trip_data.station_info`' > station_info.csv"
   ]
  },
  {
   "cell_type": "code",
   "execution_count": 200,
   "metadata": {},
   "outputs": [],
   "source": [
    "station_info = pd.read_csv('station_info.csv')"
   ]
  },
  {
   "cell_type": "code",
   "execution_count": 216,
   "metadata": {},
   "outputs": [],
   "source": [
    "merged = pd.merge(left = station_info, right = available_weekend_bikes, how = 'left', left_on ='station_id', right_on = 'station_id')"
   ]
  },
  {
   "cell_type": "code",
   "execution_count": 225,
   "metadata": {},
   "outputs": [],
   "source": [
    "san_jose = merged[merged['landmark'] == 'San Jose']\n",
    "san_fran = merged[merged['landmark'] == 'San Francisco']\n",
    "redwood_city = merged[merged['landmark'] == 'Redwood City']\n",
    "mountain_view = merged[merged['landmark'] == 'Mountain View']\n",
    "palo_alto = merged[merged['landmark'] == 'Palo Alto']"
   ]
  },
  {
   "cell_type": "code",
   "execution_count": 234,
   "metadata": {},
   "outputs": [],
   "source": [
    "san_jose_bikes = san_jose['num_bikes'].sum()\n",
    "san_fran_bikes = san_fran['num_bikes'].sum()\n",
    "redwood_city_bikes = redwood_city['num_bikes'].sum()\n",
    "mountain_view_bikes = mountain_view['num_bikes'].sum()\n",
    "palo_alto_bikes = palo_alto['num_bikes'].sum()"
   ]
  },
  {
   "cell_type": "code",
   "execution_count": 259,
   "metadata": {},
   "outputs": [
    {
     "data": {
      "image/png": "[encoded data removed]",
      "text/plain": [
       "<Figure size 432x288 with 1 Axes>"
      ]
     },
     "metadata": {},
     "output_type": "display_data"
    }
   ],
   "source": [
    "fig1, ax1 = plt.subplots()\n",
    "ax1.pie([san_jose_bikes, san_fran_bikes, redwood_city_bikes, mountain_view_bikes, palo_alto_bikes], explode = (0,0.09,0,0,0), labels = ['San Jose', 'San Fran', 'Redwood City', 'Mountain View', 'Palo Alto'], shadow=True)\n",
    "plt.title('The Landmark of the Stations with the Most Available Bikes on the Weekend')\n",
    "plt.show()"
   ]
  },
  {
   "cell_type": "markdown",
   "metadata": {},
   "source": [
    "#### This pie chart identifies regions where there are the highest count of available bikes on the weekend (Friday, Saturday, and Sunday). It is important to recognize that the number of stations located in each of these regions could indicate why there are more bikes available in some regions and less in others. However, to maximize profits we want to minimize the number of bikes available. Because San Francisco has largest proportion of available bikes on weekend days, we need to make offers to our customers in San Francisco on the days."
   ]
  },
  {
   "cell_type": "markdown",
   "metadata": {},
   "source": [
    "# APPENDIX"
   ]
  },
  {
   "cell_type": "markdown",
   "metadata": {},
   "source": [
    "#### QUESTION 1\n",
    "```sql\n",
    "SELECT start_station_name, end_station_name, count(*) AS number_evening_commutes\n",
    "  FROM `bigquery-public-data.san_francisco.bikeshare_trips`\n",
    "  WHERE start_station_name <> end_station_name \n",
    "    AND (EXTRACT(HOUR FROM start_date) < 20\n",
    "    AND EXTRACT(HOUR FROM start_date) >= 16)\n",
    "  GROUP BY start_station_name, end_station_name\n",
    "  ORDER BY number_evening_commutes DESC\n",
    "  LIMIT 5\n",
    "\n",
    "SELECT start_station_name, end_station_name, count(*) AS number_evening_commutes\n",
    "  FROM `bigquery-public-data.san_francisco.bikeshare_trips`\n",
    "  WHERE start_station_name <> end_station_name \n",
    "    AND subscriber_type = 'Subscriber'\n",
    "    AND (EXTRACT(HOUR FROM start_date) < 20\n",
    "    AND EXTRACT(HOUR FROM start_date) >= 16)\n",
    "  GROUP BY start_station_name, end_station_name\n",
    "  ORDER BY number_evening_commutes DESC\n",
    "  LIMIT 5\n",
    "  \n",
    "SELECT start_station_name, end_station_name, count(*) AS number_morning_commutes\n",
    "  FROM `bigquery-public-data.san_francisco.bikeshare_trips`\n",
    "  WHERE start_station_name <> end_station_name \n",
    "    AND (EXTRACT(HOUR FROM start_date) < 10\n",
    "    AND EXTRACT(HOUR FROM start_date) >= 6)\n",
    "  GROUP BY start_station_name, end_station_name\n",
    "  ORDER BY number_morning_commutes DESC\n",
    "  LIMIT 5\n",
    "\n",
    "SELECT start_station_name, end_station_name, count(*) AS number_morning_commutes\n",
    "  FROM `bigquery-public-data.san_francisco.bikeshare_trips`\n",
    "  WHERE start_station_name <> end_station_name \n",
    "    AND subscriber_type = 'Subscriber'\n",
    "    AND (EXTRACT(HOUR FROM start_date) < 10\n",
    "    AND EXTRACT(HOUR FROM start_date) >= 6)\n",
    "  GROUP BY start_station_name, end_station_name\n",
    "  ORDER BY number_morning_commutes DESC\n",
    "  LIMIT 5\n",
    "  \n",
    "SELECT start_station_name, end_station_name, count(*) AS top_5_commutes\n",
    "  FROM `bigquery-public-data.san_francisco.bikeshare_trips`\n",
    "  WHERE start_station_name <> end_station_name \n",
    "  GROUP BY start_station_name, end_station_name\n",
    "  ORDER BY top_5_commutes DESC\n",
    "  LIMIT 5\n",
    "  \n",
    "SELECT start_station_name, end_station_name, count(*) AS top_5_commutes\n",
    "  FROM `bigquery-public-data.san_francisco.bikeshare_trips`\n",
    "  WHERE start_station_name <> end_station_name \n",
    "  AND subscriber_type = 'Subscriber'\n",
    "  GROUP BY start_station_name, end_station_name\n",
    "  ORDER BY top_5_commutes DESC\n",
    "  LIMIT 5\n",
    "  \n",
    "SELECT EXTRACT(HOUR FROM start_date) AS hour_of_day, subscriber_type, COUNT(trip_id) AS count_trips_taken\n",
    "       FROM `bigquery-public-data.san_francisco.bikeshare_trips`\n",
    "       WHERE EXTRACT(DAYOFWEEK FROM start_date)>= 2 AND EXTRACT(DAYOFWEEK FROM start_date)<=6\n",
    "       GROUP BY hour_of_day, subscriber_type\n",
    "       ORDER BY hour_of_day, subscriber_type ASC\n",
    "```  "
   ]
  },
  {
   "cell_type": "markdown",
   "metadata": {},
   "source": [
    "#### QUESTION 2 PART A\n",
    "```sql\n",
    "SELECT COUNT(*)\n",
    "    FROM `bigquery-public-data.san_francisco.bikeshare_trips`\n",
    "    WHERE (EXTRACT(MONTH FROM start_date))= 12 AND (EXTRACT(DAY FROM start_date)) = 25\n",
    "    AND ((EXTRACT(YEAR FROM start_date)) = 2014 OR (EXTRACT(YEAR FROM start_date)) = 2015)\n",
    "    \n",
    "SELECT COUNT(*)\n",
    "    FROM `bigquery-public-data.san_francisco.bikeshare_trips`\n",
    "    WHERE ((EXTRACT(MONTH FROM start_date))= 4 AND (EXTRACT(DAY FROM start_date)) = 20 AND (EXTRACT(YEAR FROM start_date)) = 2014)\n",
    "    OR ((EXTRACT(MONTH FROM start_date))= 4 AND (EXTRACT(DAY FROM start_date)) = 5 AND (EXTRACT(YEAR FROM start_date)) = 2015)\n",
    "    \n",
    "SELECT COUNT(*)\n",
    "    FROM `bigquery-public-data.san_francisco.bikeshare_trips`\n",
    "    WHERE (EXTRACT(MONTH FROM start_date))= 10 AND (EXTRACT(DAY FROM start_date)) = 31\n",
    "    AND ((EXTRACT(YEAR FROM start_date)) = 2014 OR (EXTRACT(YEAR FROM start_date)) = 2015)\n",
    "    \n",
    " SELECT COUNT(*)\n",
    "    FROM `bigquery-public-data.san_francisco.bikeshare_trips`\n",
    "    WHERE (EXTRACT(MONTH FROM start_date))= 3 AND (EXTRACT(DAY FROM start_date)) = 17\n",
    "    AND ((EXTRACT(YEAR FROM start_date)) = 2014 OR (EXTRACT(YEAR FROM start_date)) = 2015)\n",
    "\n",
    "SELECT COUNT(*)\n",
    "    FROM `bigquery-public-data.san_francisco.bikeshare_trips`\n",
    "    WHERE (((EXTRACT(MONTH FROM start_date))= 11 AND (EXTRACT(DAY FROM start_date)) = 26 AND (EXTRACT(YEAR FROM start_date)) = 2015)\n",
    "    OR ((EXTRACT(MONTH FROM start_date))= 11 AND (EXTRACT(DAY FROM start_date)) = 27 AND (EXTRACT(YEAR FROM start_date)) = 2014))\n",
    "    \n",
    "SELECT COUNT(*)\n",
    "  FROM `bigquery-public-data.san_francisco.bikeshare_trips`\n",
    "  WHERE (EXTRACT(MONTH FROM start_date))= 2 AND (EXTRACT(DAY FROM start_date)) = 14\n",
    "  AND ((EXTRACT(YEAR FROM start_date)) = 2014 OR (EXTRACT(YEAR FROM start_date)) = 2015)\n",
    "\n",
    "```"
   ]
  },
  {
   "cell_type": "markdown",
   "metadata": {},
   "source": [
    "#### QUESTION 2 PART B\n",
    "```sql\n",
    "SELECT zip_code, COUNT(*) as trips\n",
    "  FROM `bigquery-public-data.san_francisco.bikeshare_trips`\n",
    "  WHERE subscriber_type = 'Customer'\n",
    "  GROUP BY zip_code\n",
    "  ORDER BY trips ASC\n",
    "  LIMIT 400\n",
    "\n",
    "SELECT zip_code, COUNT(*) as trips\n",
    "  FROM `bigquery-public-data.san_francisco.bikeshare_trips`\n",
    "  WHERE subscriber_type = 'Subscriber'\n",
    "  GROUP BY zip_code\n",
    "  ORDER BY trips ASC\n",
    "  LIMIT 400\n",
    "```"
   ]
  },
  {
   "cell_type": "markdown",
   "metadata": {},
   "source": [
    "#### QUESTION 2 PART C\n",
    "```sql\n",
    "SELECT station_id, SUM(bikes_available) AS num_bikes\n",
    "  FROM `bigquery-public-data.san_francisco.bikeshare_status`\n",
    "  WHERE \n",
    "        ((EXTRACT(DAYOFWEEK FROM time)) = 6 \n",
    "      OR (EXTRACT(DAYOFWEEK FROM time)) = 7\n",
    "      OR (EXTRACT(DAYOFWEEK FROM time)) = 1)\n",
    "  GROUP BY station_id\n",
    "  ORDER BY num_bikes DESC\n",
    "  \n",
    "SELECT *\n",
    "FROM `bigquery-public-data.san_francisco.bikeshare_stations`\n",
    "```"
   ]
  },
  {
   "cell_type": "code",
   "execution_count": null,
   "metadata": {},
   "outputs": [],
   "source": []
  }
 ],
 "metadata": {
  "environment": {
   "name": "tf2-2-3-gpu.2-3.m55",
   "type": "gcloud",
   "uri": "gcr.io/deeplearning-platform-release/tf2-2-3-gpu.2-3:m55"
  },
  "kernelspec": {
   "display_name": "Python 3",
   "language": "python",
   "name": "python3"
  },
  "language_info": {
   "codemirror_mode": {
    "name": "ipython",
    "version": 3
   },
   "file_extension": ".py",
   "mimetype": "text/x-python",
   "name": "python",
   "nbconvert_exporter": "python",
   "pygments_lexer": "ipython3",
   "version": "3.7.8"
  }
 },
 "nbformat": 4,
 "nbformat_minor": 4
}
